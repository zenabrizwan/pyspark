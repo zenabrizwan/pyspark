{
  "cells": [
    {
      "cell_type": "code",
      "execution_count": 1,
      "metadata": {
        "colab": {
          "base_uri": "https://localhost:8080/"
        },
        "id": "9NGoD-1WOBam",
        "outputId": "98237e8e-6323-42c2-8cc9-603e9a8aae29"
      },
      "outputs": [
        {
          "name": "stdout",
          "output_type": "stream",
          "text": [
            "Looking in indexes: https://pypi.org/simple, https://us-python.pkg.dev/colab-wheels/public/simple/\n",
            "Collecting pyspark\n",
            "  Downloading pyspark-3.4.0.tar.gz (310.8 MB)\n",
            "\u001b[2K     \u001b[90m━━━━━━━━━━━━━━━━━━━━━━━━━━━━━━━━━━━━━━━\u001b[0m \u001b[32m310.8/310.8 MB\u001b[0m \u001b[31m4.5 MB/s\u001b[0m eta \u001b[36m0:00:00\u001b[0m\n",
            "\u001b[?25h  Preparing metadata (setup.py) ... \u001b[?25l\u001b[?25hdone\n",
            "Requirement already satisfied: py4j==0.10.9.7 in /usr/local/lib/python3.10/dist-packages (from pyspark) (0.10.9.7)\n",
            "Building wheels for collected packages: pyspark\n",
            "  Building wheel for pyspark (setup.py) ... \u001b[?25l\u001b[?25hdone\n",
            "  Created wheel for pyspark: filename=pyspark-3.4.0-py2.py3-none-any.whl size=311317130 sha256=66f04a5329e047f17dacb8086e73d75cdc7a05815e8b5b3f46358092ab388ee1\n",
            "  Stored in directory: /root/.cache/pip/wheels/7b/1b/4b/3363a1d04368e7ff0d408e57ff57966fcdf00583774e761327\n",
            "Successfully built pyspark\n",
            "Installing collected packages: pyspark\n",
            "Successfully installed pyspark-3.4.0\n"
          ]
        }
      ],
      "source": [
        "! pip install pyspark"
      ]
    },
    {
      "cell_type": "code",
      "execution_count": 18,
      "metadata": {
        "id": "sYCJ5kWnOXjZ"
      },
      "outputs": [],
      "source": [
        "from pyspark import SparkContext, SparkConf"
      ]
    },
    {
      "cell_type": "code",
      "execution_count": 100,
      "metadata": {
        "id": "uIx4504lHcS-"
      },
      "outputs": [],
      "source": [
        "from pyspark.sql import SparkSession\n",
        "from pyspark.ml.clustering import KMeans, BisectingKMeans\n",
        "from pyspark.ml.feature import VectorAssembler, StandardScaler\n",
        "from pyspark.ml.evaluation import ClusteringEvaluator"
      ]
    },
    {
      "cell_type": "code",
      "execution_count": 3,
      "metadata": {
        "id": "aKcTuW38OXfv"
      },
      "outputs": [],
      "source": [
        "appName=\"lab13\"\n",
        "master=\"local[*]\""
      ]
    },
    {
      "cell_type": "code",
      "execution_count": 4,
      "metadata": {
        "id": "4p0Jz08iOXaD"
      },
      "outputs": [],
      "source": [
        "conf = SparkConf().setAppName(appName).setMaster(master)\n",
        "sc = SparkContext(conf=conf)"
      ]
    },
    {
      "cell_type": "code",
      "execution_count": 20,
      "metadata": {
        "id": "Y_pGG9G6bFPk"
      },
      "outputs": [],
      "source": [
        "from pyspark.sql import SparkSession\n",
        "spark = SparkSession.builder.master(master) \\\n",
        "                    .appName(appName) \\\n",
        "                    .getOrCreate()"
      ]
    },
    {
      "cell_type": "code",
      "execution_count": 21,
      "metadata": {
        "colab": {
          "base_uri": "https://localhost:8080/"
        },
        "id": "jUUxpk_XbPen",
        "outputId": "6184e75a-6f0c-4e0b-d568-74d0f7c69ffa"
      },
      "outputs": [
        {
          "name": "stdout",
          "output_type": "stream",
          "text": [
            "+----+------+--------------------+-------+--------------------+-----------------+--------------------+----------+------+-------------------+\n",
            "| _c0|   _c1|                 _c2|    _c3|                 _c4|              _c5|                 _c6|       _c7|   _c8|                _c9|\n",
            "+----+------+--------------------+-------+--------------------+-----------------+--------------------+----------+------+-------------------+\n",
            "|Year|Length|               Title|  Genre|               Actor|          Actress|            Director|Popularity|Awards|              Image|\n",
            "|1990|   111|Tie Me Up! Tie Me...| Comedy|     BanderasAntonio|    AbrilVictoria|      AlmodóvarPedro|        68|    No|   NicholasCage.png|\n",
            "|1991|   113|          High Heels| Comedy|          BoséMiguel|    AbrilVictoria|      AlmodóvarPedro|        68|    No|   NicholasCage.png|\n",
            "|1983|   104|        Dead ZoneThe| Horror|   WalkenChristopher|      AdamsBrooke|     CronenbergDavid|        79|    No|   NicholasCage.png|\n",
            "|1979|   122|                Cuba| Action|         ConnerySean|      AdamsBrooke|       LesterRichard|         6|    No|    seanConnery.png|\n",
            "|1978|    94|      Days of Heaven|  Drama|         GereRichard|      AdamsBrooke|      MalickTerrence|        14|    No|   NicholasCage.png|\n",
            "|1983|   140|           Octopussy| Action|          MooreRoger|        AdamsMaud|            GlenJohn|        68|    No|   NicholasCage.png|\n",
            "|1984|   101|        Target Eagle| Action|        ConnorsChuck|        AdamsMaud|LomaJosé Antonio ...|        14|    No|   NicholasCage.png|\n",
            "|1989|    99|American Angels: ...|  Drama|     BergenRobert D.|       AdamsTrudy|    SebastianBeverly|        28|    No|   NicholasCage.png|\n",
            "|1985|   104|              Subway|  Drama|  LambertChristopher|   AdjaniIsabelle|           BessonLuc|         6|    No|   NicholasCage.png|\n",
            "|1990|   149|     Camille Claudel|  Drama|     DepardieuGérard|   AdjaniIsabelle|        NuyttenBruno|        32|    No|   NicholasCage.png|\n",
            "|1982|   188| Fanny and Alexander|  Drama|       AhlstedtBörje|AdolphsonKristina|       BergmanIngmar|        81|   Yes|        Bergman.png|\n",
            "|1982|   117|Tragedy of a Ridi...|  Drama|         TognazziUgo|       AimeeAnouk|  BertolucciBernardo|        17|    No|   NicholasCage.png|\n",
            "|1966|   103|     A Man & a Woman|  Drama|TrintignantJean-L...|       AimeeAnouk|       LelouchClaude|        46|   Yes|   NicholasCage.png|\n",
            "|1986|   112|A Man & a Woman: ...|  Drama|TrintignantJean-L...|       AimeeAnouk|       LelouchClaude|        49|    No|   NicholasCage.png|\n",
            "|1966|   103|Un Hombre y una M...|  Drama|TrintignantJean-L...|       AimeeAnouk|       LelouchClaude|         6|   Yes|   NicholasCage.png|\n",
            "|1985|   112|   Official StoryThe|  Drama|       AlterioHector|    AleandroNorma|          PuenzoLuiz|        39|   Yes|   NicholasCage.png|\n",
            "|1976|   150|Lindbergh Kidnapp...|  Drama|      HopkinsAnthony|  AlexanderDenise|           KulikBuzz|        51|    No| AnthonyHopkins.png|\n",
            "|1929|    84|           Blackmail|Mystery|         LongdenJohn|       AlgoodSara|     HitchcockAlfred|         2|    No|alfredHitchcock.png|\n",
            "|1963|   109|      Donovan's Reef| Comedy|           WayneJohn|   AllenElizabeth|            FordJohn|        62|    No|      johnWayne.png|\n",
            "+----+------+--------------------+-------+--------------------+-----------------+--------------------+----------+------+-------------------+\n",
            "only showing top 20 rows\n",
            "\n"
          ]
        }
      ],
      "source": [
        "df = spark.read.csv(\"Movies.csv\")\n",
        "# Displays the content of the DataFrame to stdout\n",
        "df.show()"
      ]
    },
    {
      "cell_type": "markdown",
      "metadata": {
        "id": "QYcPdAgIpUsx"
      },
      "source": [
        "Task 1"
      ]
    },
    {
      "cell_type": "code",
      "execution_count": 43,
      "metadata": {
        "colab": {
          "base_uri": "https://localhost:8080/"
        },
        "id": "epwqivhDgBxl",
        "outputId": "768b3964-1941-4b9c-bf34-29f1192135a7"
      },
      "outputs": [
        {
          "name": "stdout",
          "output_type": "stream",
          "text": [
            "+---+---+---+\n",
            "|_c0|_c2|_c6|\n",
            "+---+---+---+\n",
            "+---+---+---+\n",
            "\n"
          ]
        }
      ],
      "source": [
        "  T1=df.filter((df ['_c8'] == 'Yes') & (df ['_c3'] == 'Action'))\n",
        "  T1.select('_c0','_c2','_c6').show()"
      ]
    },
    {
      "cell_type": "markdown",
      "metadata": {
        "id": "YrWJ-S80pYpI"
      },
      "source": [
        "Task 2"
      ]
    },
    {
      "cell_type": "code",
      "execution_count": 55,
      "metadata": {
        "colab": {
          "base_uri": "https://localhost:8080/"
        },
        "id": "pXz7yih-pZxe",
        "outputId": "edd5de4d-f0ae-41f5-f42c-836e2898f356"
      },
      "outputs": [
        {
          "name": "stdout",
          "output_type": "stream",
          "text": [
            "+--------------------+-------------------+\n",
            "|                 _c2|                _c6|\n",
            "+--------------------+-------------------+\n",
            "| Fanny and Alexander|      BergmanIngmar|\n",
            "|     A Man & a Woman|      LelouchClaude|\n",
            "|Un Hombre y una M...|      LelouchClaude|\n",
            "|   Official StoryThe|         PuenzoLuiz|\n",
            "|   Wild Strawberries|      BergmanIngmar|\n",
            "|Through a Glass D...|      BergmanIngmar|\n",
            "|    Cries & Whispers|      BergmanIngmar|\n",
            "|   Sound of MusicThe|         WiseRobert|\n",
            "|     Babette's Feast|        AxelGabriel|\n",
            "|Murder on the Ori...|        LumetSidney|\n",
            "|     Elephant ManThe|         LynchDavid|\n",
            "|E. T. The Extra-T...|    SpielbergSteven|\n",
            "|              Misery|          ReinerRob|\n",
            "|              Gandhi|AttenboroughRichard|\n",
            "|       Autumn Sonata|      BergmanIngmar|\n",
            "|            Gaslight|        CukorGeorge|\n",
            "|A Woman Called Golda|         GibsonAlan|\n",
            "|           Anastasia|      LitvakAnatole|\n",
            "|       Cactus Flower|           SaksGene|\n",
            "|             Amadeus|        FormanMilos|\n",
            "+--------------------+-------------------+\n",
            "only showing top 20 rows\n",
            "\n"
          ]
        }
      ],
      "source": [
        "T2=df.filter(df ['_c8'] == 'Yes')\n",
        "T2.select('_c2','_c6').show()"
      ]
    },
    {
      "cell_type": "markdown",
      "metadata": {
        "id": "VDEMYmEBuf7H"
      },
      "source": [
        "Task 3"
      ]
    },
    {
      "cell_type": "code",
      "execution_count": 82,
      "metadata": {
        "colab": {
          "base_uri": "https://localhost:8080/"
        },
        "id": "bZsWURs3ufcK",
        "outputId": "a799cc65-8cc7-47f7-d36e-24c2fc67207a"
      },
      "outputs": [
        {
          "name": "stdout",
          "output_type": "stream",
          "text": [
            "+--------------------+\n",
            "|                 _c2|\n",
            "+--------------------+\n",
            "|                Cuba|\n",
            "|              Subway|\n",
            "|           Blackmail|\n",
            "|Raiders of the Lo...|\n",
            "|              Dr. No|\n",
            "|              Hawaii|\n",
            "|               Tommy|\n",
            "|        Alan & Naomi|\n",
            "|         Big BlueThe|\n",
            "|         Thunderball|\n",
            "+--------------------+\n",
            "only showing top 10 rows\n",
            "\n"
          ]
        }
      ],
      "source": [
        "T3=df.filter((df ['_c8'] == 'No') & ((df ['_c7'] <= 10)))\n",
        "T3.select('_c2').show(10)\n"
      ]
    },
    {
      "cell_type": "markdown",
      "metadata": {
        "id": "Mqjcmug9voB5"
      },
      "source": [
        "Task 4"
      ]
    },
    {
      "cell_type": "code",
      "execution_count": 65,
      "metadata": {
        "colab": {
          "base_uri": "https://localhost:8080/"
        },
        "id": "d3ZDkOsMvnkP",
        "outputId": "ef04dcee-f152-4990-c639-060c0f315589"
      },
      "outputs": [
        {
          "data": {
            "text/plain": [
              "[Row(_c2='D-DayThe Sixth of June'),\n",
              " Row(_c2='A Clockwork Orange'),\n",
              " Row(_c2='Sanshiro Sugata'),\n",
              " Row(_c2='Jeremiah Johnson'),\n",
              " Row(_c2='Overland Stage Raiders'),\n",
              " Row(_c2='Crawling HandThe'),\n",
              " Row(_c2='Joe Kidd'),\n",
              " Row(_c2='Check Your Guns'),\n",
              " Row(_c2='Nineteen Hundred'),\n",
              " Row(_c2='Goon Show MovieThe')]"
            ]
          },
          "execution_count": 65,
          "metadata": {},
          "output_type": "execute_result"
        }
      ],
      "source": [
        "T4=df.filter((df ['_c0'] < 1980) & ((df ['_c7'] >= 78)))\n",
        "T4.select('_c2').tail(10)"
      ]
    },
    {
      "cell_type": "markdown",
      "metadata": {
        "id": "6TiBkJ3YyHAR"
      },
      "source": [
        "Task 5"
      ]
    },
    {
      "cell_type": "code",
      "execution_count": 80,
      "metadata": {
        "colab": {
          "base_uri": "https://localhost:8080/"
        },
        "id": "On1VQcUCpYKK",
        "outputId": "4baf519d-cda9-4d8c-d2d3-bb674f7e6f48"
      },
      "outputs": [
        {
          "name": "stdout",
          "output_type": "stream",
          "text": [
            "+----+----+--------------------+---------------+--------------------+-----------------+-------------------+---+---+-------------------+\n",
            "| _c0| _c1|                 _c2|            _c3|                 _c4|              _c5|                _c6|_c7|_c8|                _c9|\n",
            "+----+----+--------------------+---------------+--------------------+-----------------+-------------------+---+---+-------------------+\n",
            "|1968| 139|2001: A Space Ody...|Science Fiction|          DulleaKeir|   TyzackMargaret|     KubrickStanley| 83| No|   NicholasCage.png|\n",
            "|1982|  92|             48 Hrs.|         Action|           NolteNick|   O'TooleAnnette|         HillWalter| 67| No|   NicholasCage.png|\n",
            "|1963| 138|               8 1/2|          Drama| MastroianniMarcello| CardinaleClaudia|    FelliniFederico| 80|Yes|   NicholasCage.png|\n",
            "|1966|  95|A Big Hand for th...|         Comedy|          FondaHenry|   WoodwardJoanne|        CookFielder| 12| No|   NicholasCage.png|\n",
            "|1962| 105|  A Child Is Waiting|          Drama|       LancasterBurt|      GarlandJudy|     CassavetesJohn| 60| No|  burtLancaster.png|\n",
            "|1985| 118|A Chorus LineThe ...|          Music|      DouglasMichael|    LandersAudrey|AttenboroughRichard| 71| No|   NicholasCage.png|\n",
            "|1971| 138|  A Clockwork Orange|Science Fiction|     McDowellMalcolm|             null|     KubrickStanley| 83|Yes|   NicholasCage.png|\n",
            "|1967| 100|A Coeur Joie(Head...|         Action|     TerzieffLaurent|   BardotBrigitte|   BourguignonSerge| 54| No| brigitteBardot.png|\n",
            "|1988| 122|   A Cry in the Dark|          Drama|            NeillSam|      StreepMeryl|       SchepisiFred| 67| No|    merylStreep.png|\n",
            "|1989|  97|  A Dry White Season|          Drama|    SutherlandDonald|    SarandonSusan|        PalcyEuzhan| 71| No|   NicholasCage.png|\n",
            "|1966| 104|      A Fine Madness|         Comedy|         ConnerySean|   WoodwardJoanne|      KershnerIrvin|  6| No|    seanConnery.png|\n",
            "|1988| 108| A Fish Called Wanda|         Comedy|          CleeseJohn|  CurtisJamie Lee|    CrichtonCharles|  7|Yes|   NicholasCage.png|\n",
            "|1964| 102|A Fistful of Dollars|       Westerns|       EastwoodClint|VolonteGian Maria|        LeoneSergio| 61| No|  clintEastwood.png|\n",
            "|1943|null|     A Guy Named Joe|          Drama|        TracySpencer|       DunneIrene|      FlemingVictor| 42| No|   spencerTracy.png|\n",
            "|1954|  96|    A Lesson in Love|         Comedy|   BjörnstrandGunnar|      DahlbeckEva|      BergmanIngmar| 48| No|        Bergman.png|\n",
            "|1977| 110|A Little Night Music|          Music|           CariouLen|  TaylorElizabeth|       PrinceHarold| 61| No|elizabethTaylor.png|\n",
            "|1966| 103|     A Man & a Woman|          Drama|TrintignantJean-L...|       AimeeAnouk|      LelouchClaude| 46|Yes|   NicholasCage.png|\n",
            "|1986| 112|A Man & a Woman: ...|          Drama|TrintignantJean-L...|       AimeeAnouk|      LelouchClaude| 49| No|   NicholasCage.png|\n",
            "|1966| 120|A Man for All Sea...|          Drama|          ShawRobert|      HillerWendy|      ZinnemannFred| 20|Yes|   NicholasCage.png|\n",
            "|1976|  97|    A Matter of Time|          Drama|        BoyerCharles|     MinnelliLiza|   MinnelliVincente| 70| No|   NicholasCage.png|\n",
            "+----+----+--------------------+---------------+--------------------+-----------------+-------------------+---+---+-------------------+\n",
            "only showing top 20 rows\n",
            "\n"
          ]
        }
      ],
      "source": [
        "T5=df.filter(df ['_c0'] < 1990)\n",
        "T5.sort('_c2').show()"
      ]
    },
    {
      "cell_type": "markdown",
      "metadata": {
        "id": "8K8K2HJa1TYI"
      },
      "source": [
        "Task 6"
      ]
    },
    {
      "cell_type": "code",
      "execution_count": 96,
      "metadata": {
        "colab": {
          "base_uri": "https://localhost:8080/"
        },
        "id": "oFdNiHnD_wB7",
        "outputId": "6505086f-2921-4920-cb19-e388f5c4541f"
      },
      "outputs": [
        {
          "name": "stdout",
          "output_type": "stream",
          "text": [
            "+-------+----------+----+------------+---------+-------------+----------+--------------------+---------------+---------------+----+-----+-------+\n",
            "|    _c0|       _c1| _c2|         _c3|      _c4|          _c5|       _c6|                 _c7|            _c8|            _c9|_c10| _c11|   _c12|\n",
            "+-------+----------+----+------------+---------+-------------+----------+--------------------+---------------+---------------+----+-----+-------+\n",
            "|Alcohol|Malic_Acid| Ash|Ash_Alcanity|Magnesium|Total_Phenols|Flavanoids|Nonflavanoid_Phenols|Proanthocyanins|Color_Intensity| Hue|OD280|Proline|\n",
            "|  14.23|      1.71|2.43|        15.6|      127|          2.8|      3.06|                0.28|           2.29|           5.64|1.04| 3.92|   1065|\n",
            "|   13.2|      1.78|2.14|        11.2|      100|         2.65|      2.76|                0.26|           1.28|           4.38|1.05|  3.4|   1050|\n",
            "|  13.16|      2.36|2.67|        18.6|      101|          2.8|      3.24|                 0.3|           2.81|           5.68|1.03| 3.17|   1185|\n",
            "|  14.37|      1.95| 2.5|        16.8|      113|         3.85|      3.49|                0.24|           2.18|            7.8|0.86| 3.45|   1480|\n",
            "+-------+----------+----+------------+---------+-------------+----------+--------------------+---------------+---------------+----+-----+-------+\n",
            "only showing top 5 rows\n",
            "\n",
            "root\n",
            " |-- _c0: string (nullable = true)\n",
            " |-- _c1: string (nullable = true)\n",
            " |-- _c2: string (nullable = true)\n",
            " |-- _c3: string (nullable = true)\n",
            " |-- _c4: string (nullable = true)\n",
            " |-- _c5: string (nullable = true)\n",
            " |-- _c6: string (nullable = true)\n",
            " |-- _c7: string (nullable = true)\n",
            " |-- _c8: string (nullable = true)\n",
            " |-- _c9: string (nullable = true)\n",
            " |-- _c10: string (nullable = true)\n",
            " |-- _c11: string (nullable = true)\n",
            " |-- _c12: string (nullable = true)\n",
            "\n",
            "+-------+------------------+------------------+------------------+-----------------+------------------+------------------+------------------+--------------------+------------------+-----------------+-------------------+------------------+-----------------+\n",
            "|summary|               _c0|               _c1|               _c2|              _c3|               _c4|               _c5|               _c6|                 _c7|               _c8|              _c9|               _c10|              _c11|             _c12|\n",
            "+-------+------------------+------------------+------------------+-----------------+------------------+------------------+------------------+--------------------+------------------+-----------------+-------------------+------------------+-----------------+\n",
            "|  count|               179|               179|               179|              179|               179|               179|               179|                 179|               179|              179|                179|               179|              179|\n",
            "|   mean|13.000617977528083| 2.336348314606741|2.3665168539325854|19.49494382022472| 99.74157303370787| 2.295112359550562|2.0292696629213474| 0.36185393258426973|1.5908988764044953|5.058089882022473| 0.9574494382022468|2.6116853932584254|746.8932584269663|\n",
            "| stddev| 0.811826538005858|1.1171460976144625|0.2743440090608148|3.339563767173504|14.282483515295652|0.6258510488339892|0.9988586850169471| 0.12445334029667941|0.5723588626747612|2.318285871822413|0.22857156582982324|0.7099904287650503|314.9074742768492|\n",
            "|    min|             11.03|              0.74|              1.36|             10.6|               100|              0.98|              0.34|                0.13|              0.41|             1.28|               0.48|              1.27|             1015|\n",
            "|    max|           Alcohol|        Malic_Acid|               Ash|     Ash_Alcanity|         Magnesium|     Total_Phenols|        Flavanoids|Nonflavanoid_Phenols|   Proanthocyanins|  Color_Intensity|                Hue|             OD280|          Proline|\n",
            "+-------+------------------+------------------+------------------+-----------------+------------------+------------------+------------------+--------------------+------------------+-----------------+-------------------+------------------+-----------------+\n",
            "\n"
          ]
        }
      ],
      "source": [
        "df2= spark.read.csv(\"wine.csv\")\n",
        "df2.show(5)\n",
        "df2.printSchema()\n",
        "df2.describe().show()\n",
        "df2 = df2.na.drop()\n"
      ]
    }
  ],
  "metadata": {
    "colab": {
      "provenance": []
    },
    "kernelspec": {
      "display_name": "Python 3",
      "name": "python3"
    },
    "language_info": {
      "name": "python"
    }
  },
  "nbformat": 4,
  "nbformat_minor": 0
}
